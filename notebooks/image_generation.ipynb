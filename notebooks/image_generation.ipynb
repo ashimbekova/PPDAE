{
 "cells": [
  {
   "cell_type": "markdown",
   "metadata": {},
   "source": [
    "This is an interactive notebook that enables image generation directly from physical parameters using machine learning."
   ]
  },
  {
   "cell_type": "code",
   "execution_count": null,
   "metadata": {},
   "outputs": [],
   "source": [
    "import numpy as np\n",
    "from astropy.io import fits\n",
    "import matplotlib.pyplot as plt\n",
    "import torch\n",
    "from ipywidgets import interact, interactive, fixed, interact_manual\n",
    "import ipywidgets as widgets"
   ]
  },
  {
   "cell_type": "code",
   "execution_count": null,
   "metadata": {},
   "outputs": [],
   "source": [
    "#Load in the best-performing models\n",
    "RandomForestRegressor = torch.load(\"../RFR_20supi6u.h5\") #Random forest regressor that we use to map physical parameters to position in the latent space\n",
    "ae_model = torch.load(\"../ae_20supi6u_CPU.h5\") #autoencoder model that we use to go from latent space values to predicted image\n",
    "RandomForestClassifier = torch.load(\"RFC_allnewmodels.h5\") #Random forest classifier that we use to predict whether or not a given combination of parameters describes an edge-on disk\n"
   ]
  },
  {
   "cell_type": "code",
   "execution_count": null,
   "metadata": {},
   "outputs": [],
   "source": [
    "#Load in HST PSF\n",
    "hdul = fits.open(\"result00_psf.fits\")\n",
    "psf = hdul[0].data"
   ]
  },
  {
   "cell_type": "code",
   "execution_count": null,
   "metadata": {},
   "outputs": [],
   "source": [
    "device = torch.device(\"cuda\" if torch.cuda.is_available() and gpu else \"cpu\") #Use a GPU if available and a CPU if not"
   ]
  },
  {
   "cell_type": "code",
   "execution_count": null,
   "metadata": {},
   "outputs": [],
   "source": [
    "def gen_ML_img(params): #generate an image from a set of physical parameters using our trained machine learning models\n",
    "    test_pred = RandomForestRegressor.predict([params]) #predict the latent space values that corespond to the inputted physical parameters\n",
    "    z_test = np.array(test_pred) #array of predicted latent space values\n",
    "    z_test_float= torch.from_numpy(z_test).float() #convert to float array, make it a pytorch array\n",
    "    z_test_gpu = z_test_float.to(device=device) #port to GPU if possible, keep on CPU if not\n",
    "    x = ae_model.decode(z_test_gpu) #predict image from latent space values using the decoder side of the autoencoder\n",
    "    x = x.to(device='cpu') #port to CPU\n",
    "    x = x.detach().numpy() \n",
    "    model = x\n",
    "    mod_use = x[0,0,:,:]\n",
    "    return mod_use"
   ]
  },
  {
   "cell_type": "markdown",
   "metadata": {},
   "source": [
    "# Generate an image"
   ]
  },
  {
   "cell_type": "code",
   "execution_count": null,
   "metadata": {},
   "outputs": [],
   "source": [
    "#set the physical parameter values\n",
    "\n",
    "dust_mass = 5.95e-04 #dust mass, in Solar Masses\n",
    "Rc = 264 #critical radius, in AU\n",
    "flaring_exp = 1.219 #flaring exponent\n",
    "H0 = 5.30 #scale height, in AU\n",
    "Rin = 2.1 #inner radius, in AU\n",
    "sd_exp = -1.38 #surface density exponent\n",
    "sett = 2e-3 #dust settling (alpha viscosity), in microns\n",
    "inc = 90.0 #inclination, in degrees\n",
    "\n",
    "params = [np.log10(dust_mass), np.log10(Rc), flaring_exp, H0, np.log10(Rin), sd_exp, np.log10(sett), inc] \n",
    "\n",
    "#generate and show the ML image\n",
    "plt.imshow(gen_ML_img(params))\n",
    "plt.show()"
   ]
  },
  {
   "cell_type": "markdown",
   "metadata": {},
   "source": [
    "# Interactive Widget"
   ]
  },
  {
   "cell_type": "code",
   "execution_count": null,
   "metadata": {},
   "outputs": [],
   "source": [
    "def gen_img_widget(log_mdust, log_Rc, f_exp, H0, log_Rin, sd_exp, log_sett, inc):\n",
    "    \n",
    "    edge_on=RandomForestClassifier.predict([[log_mdust, log_Rc, f_exp, H0, log_Rin, sd_exp, log_sett, inc]])\n",
    "\n",
    "    if edge_on==1:\n",
    "        test_pred = RandomForestRegressor.predict([[log_mdust, log_Rc, f_exp, H0, log_Rin, sd_exp, log_sett, inc]])\n",
    "        z_test = np.array(test_pred) #array of predicted latent space values\n",
    "        z_test_float= torch.from_numpy(z_test).float() #convert to float array, make it a pytorch array\n",
    "        z_test_gpu = z_test_float.to(device=device) #send to GPU\n",
    "        x = ae_model.decode(z_test_gpu) #predicted image from latent space values using ML decoder\n",
    "        x = x.to(device='cpu') #send to CPU\n",
    "        x = x.detach().numpy() \n",
    "        plt.imshow(np.sqrt(x[0,0,:,:]), origin='lower')\n",
    "        \n",
    "    elif edge_on==0:\n",
    "        plt.imshow(np.sqrt(psf), origin='lower')\n",
    "        \n",
    "    plt.xticks([])\n",
    "    plt.yticks([])\n",
    "    plt.show()\n",
    "\n",
    "cmb_w = interact(gen_img_widget, log_mdust = (np.log10(1.5e-07), np.log10(0.0012)), log_Rc=(1,2.477,0.1), f_exp=(1,1.3,0.01), H0=(5,25,1), log_Rin=(-1,1,0.1), sd_exp=(-1.5,0,0.1), log_sett=(np.log10(3e-6),np.log10(3e-3)),  inc = (45,90,1))\n",
    "\n"
   ]
  },
  {
   "cell_type": "code",
   "execution_count": null,
   "metadata": {},
   "outputs": [],
   "source": []
  }
 ],
 "metadata": {
  "kernelspec": {
   "display_name": "Python 3",
   "language": "python",
   "name": "python3"
  },
  "language_info": {
   "codemirror_mode": {
    "name": "ipython",
    "version": 3
   },
   "file_extension": ".py",
   "mimetype": "text/x-python",
   "name": "python",
   "nbconvert_exporter": "python",
   "pygments_lexer": "ipython3",
   "version": "3.7.4"
  }
 },
 "nbformat": 4,
 "nbformat_minor": 2
}
